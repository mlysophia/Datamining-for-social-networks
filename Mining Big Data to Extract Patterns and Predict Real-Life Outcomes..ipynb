{
 "cells": [
  {
   "cell_type": "markdown",
   "metadata": {},
   "source": [
    "# Mining Big Data to Extract Patterns and Predict Real-Life Outcomes"
   ]
  },
  {
   "cell_type": "code",
   "execution_count": 1,
   "metadata": {},
   "outputs": [],
   "source": [
    "import pandas as pd\n",
    "import numpy as np\n",
    "from scipy.sparse import csr_matrix\n",
    "from sklearn.decomposition import TruncatedSVD\n",
    "from sklearn.decomposition import FactorAnalysis\n",
    "from sklearn.decomposition import LatentDirichletAllocation\n",
    "import matplotlib.pyplot as plt\n",
    "from sklearn.model_selection import cross_val_score\n",
    "from sklearn.linear_model import LinearRegression"
   ]
  },
  {
   "cell_type": "markdown",
   "metadata": {},
   "source": [
    "### 1. 预处理"
   ]
  },
  {
   "cell_type": "code",
   "execution_count": 2,
   "metadata": {},
   "outputs": [
    {
     "data": {
      "text/html": [
       "<div>\n",
       "<style scoped>\n",
       "    .dataframe tbody tr th:only-of-type {\n",
       "        vertical-align: middle;\n",
       "    }\n",
       "\n",
       "    .dataframe tbody tr th {\n",
       "        vertical-align: top;\n",
       "    }\n",
       "\n",
       "    .dataframe thead th {\n",
       "        text-align: right;\n",
       "    }\n",
       "</style>\n",
       "<table border=\"1\" class=\"dataframe\">\n",
       "  <thead>\n",
       "    <tr style=\"text-align: right;\">\n",
       "      <th></th>\n",
       "      <th>userid</th>\n",
       "      <th>likeid</th>\n",
       "      <th>gender</th>\n",
       "      <th>age</th>\n",
       "      <th>political</th>\n",
       "      <th>ope</th>\n",
       "      <th>con</th>\n",
       "      <th>ext</th>\n",
       "      <th>agr</th>\n",
       "      <th>neu</th>\n",
       "      <th>name</th>\n",
       "      <th>val</th>\n",
       "    </tr>\n",
       "  </thead>\n",
       "  <tbody>\n",
       "    <tr>\n",
       "      <th>0</th>\n",
       "      <td>71bc7c0901488aec6d30f0add257e7c5</td>\n",
       "      <td>3c1636c878e6eb2acfd00c6b61086e38</td>\n",
       "      <td>1</td>\n",
       "      <td>37</td>\n",
       "      <td>NaN</td>\n",
       "      <td>0.61</td>\n",
       "      <td>1.36</td>\n",
       "      <td>-0.21</td>\n",
       "      <td>1.57</td>\n",
       "      <td>0.74</td>\n",
       "      <td>REIGN by Paul Gibson</td>\n",
       "      <td>1</td>\n",
       "    </tr>\n",
       "    <tr>\n",
       "      <th>1</th>\n",
       "      <td>71bc7c0901488aec6d30f0add257e7c5</td>\n",
       "      <td>0b587fcf3266aae62fc0b22c43ff275e</td>\n",
       "      <td>1</td>\n",
       "      <td>37</td>\n",
       "      <td>NaN</td>\n",
       "      <td>0.61</td>\n",
       "      <td>1.36</td>\n",
       "      <td>-0.21</td>\n",
       "      <td>1.57</td>\n",
       "      <td>0.74</td>\n",
       "      <td>1 Million People Saying Shame on Arizona</td>\n",
       "      <td>1</td>\n",
       "    </tr>\n",
       "    <tr>\n",
       "      <th>2</th>\n",
       "      <td>46e58d38831dfe1913dbe70b5864ce65</td>\n",
       "      <td>0b587fcf3266aae62fc0b22c43ff275e</td>\n",
       "      <td>0</td>\n",
       "      <td>26</td>\n",
       "      <td>NaN</td>\n",
       "      <td>-0.41</td>\n",
       "      <td>-1.45</td>\n",
       "      <td>1.29</td>\n",
       "      <td>-0.59</td>\n",
       "      <td>0.55</td>\n",
       "      <td>1 Million People Saying Shame on Arizona</td>\n",
       "      <td>1</td>\n",
       "    </tr>\n",
       "    <tr>\n",
       "      <th>3</th>\n",
       "      <td>a55e2a439106504d8a4182538e88d08a</td>\n",
       "      <td>0b587fcf3266aae62fc0b22c43ff275e</td>\n",
       "      <td>1</td>\n",
       "      <td>61</td>\n",
       "      <td>0.0</td>\n",
       "      <td>1.52</td>\n",
       "      <td>-0.02</td>\n",
       "      <td>0.42</td>\n",
       "      <td>1.49</td>\n",
       "      <td>-0.05</td>\n",
       "      <td>1 Million People Saying Shame on Arizona</td>\n",
       "      <td>1</td>\n",
       "    </tr>\n",
       "    <tr>\n",
       "      <th>4</th>\n",
       "      <td>6e737ed1c5acb97ff603666fad32791f</td>\n",
       "      <td>0b587fcf3266aae62fc0b22c43ff275e</td>\n",
       "      <td>1</td>\n",
       "      <td>26</td>\n",
       "      <td>NaN</td>\n",
       "      <td>-0.50</td>\n",
       "      <td>-1.23</td>\n",
       "      <td>0.42</td>\n",
       "      <td>-1.56</td>\n",
       "      <td>-0.82</td>\n",
       "      <td>1 Million People Saying Shame on Arizona</td>\n",
       "      <td>1</td>\n",
       "    </tr>\n",
       "    <tr>\n",
       "      <th>5</th>\n",
       "      <td>de072aeed0dc558549491c06afd48e07</td>\n",
       "      <td>0b587fcf3266aae62fc0b22c43ff275e</td>\n",
       "      <td>1</td>\n",
       "      <td>27</td>\n",
       "      <td>NaN</td>\n",
       "      <td>-0.24</td>\n",
       "      <td>0.93</td>\n",
       "      <td>-0.08</td>\n",
       "      <td>-1.01</td>\n",
       "      <td>-1.63</td>\n",
       "      <td>1 Million People Saying Shame on Arizona</td>\n",
       "      <td>1</td>\n",
       "    </tr>\n",
       "  </tbody>\n",
       "</table>\n",
       "</div>"
      ],
      "text/plain": [
       "                             userid                            likeid  gender  \\\n",
       "0  71bc7c0901488aec6d30f0add257e7c5  3c1636c878e6eb2acfd00c6b61086e38       1   \n",
       "1  71bc7c0901488aec6d30f0add257e7c5  0b587fcf3266aae62fc0b22c43ff275e       1   \n",
       "2  46e58d38831dfe1913dbe70b5864ce65  0b587fcf3266aae62fc0b22c43ff275e       0   \n",
       "3  a55e2a439106504d8a4182538e88d08a  0b587fcf3266aae62fc0b22c43ff275e       1   \n",
       "4  6e737ed1c5acb97ff603666fad32791f  0b587fcf3266aae62fc0b22c43ff275e       1   \n",
       "5  de072aeed0dc558549491c06afd48e07  0b587fcf3266aae62fc0b22c43ff275e       1   \n",
       "\n",
       "   age  political   ope   con   ext   agr   neu  \\\n",
       "0   37        NaN  0.61  1.36 -0.21  1.57  0.74   \n",
       "1   37        NaN  0.61  1.36 -0.21  1.57  0.74   \n",
       "2   26        NaN -0.41 -1.45  1.29 -0.59  0.55   \n",
       "3   61        0.0  1.52 -0.02  0.42  1.49 -0.05   \n",
       "4   26        NaN -0.50 -1.23  0.42 -1.56 -0.82   \n",
       "5   27        NaN -0.24  0.93 -0.08 -1.01 -1.63   \n",
       "\n",
       "                                       name  val  \n",
       "0                      REIGN by Paul Gibson    1  \n",
       "1  1 Million People Saying Shame on Arizona    1  \n",
       "2  1 Million People Saying Shame on Arizona    1  \n",
       "3  1 Million People Saying Shame on Arizona    1  \n",
       "4  1 Million People Saying Shame on Arizona    1  \n",
       "5  1 Million People Saying Shame on Arizona    1  "
      ]
     },
     "execution_count": 2,
     "metadata": {},
     "output_type": "execute_result"
    }
   ],
   "source": [
    "# 读取数据\n",
    "data = pd.read_csv('users-likes.csv')\n",
    "data_users = pd.read_csv('users.csv')\n",
    "data_likes = pd.read_csv('likes.csv')\n",
    "data = data.merge(data_users, how='inner', on='userid')\n",
    "data = data.merge(data_likes, how='inner', on='likeid')\n",
    "data['val'] = pd.Series([1]*data.shape[0])\n",
    "data.head(6)"
   ]
  },
  {
   "cell_type": "code",
   "execution_count": 3,
   "metadata": {},
   "outputs": [],
   "source": [
    "# 对矩阵的稀疏行列进行修剪"
   ]
  },
  {
   "cell_type": "code",
   "execution_count": 4,
   "metadata": {},
   "outputs": [],
   "source": [
    "data_trimmed1 = data.filter(items=['userid','val']).groupby('userid')\n",
    "data_trimmed2 = data.filter(items=['likeid','val']).groupby('likeid')\n",
    "while pd.DataFrame(data_trimmed1['val'].sum() <= 50).any().val or pd.DataFrame(data_trimmed2['val'].sum() <= 150).any().val:\n",
    "    data_trimmed1 = data_trimmed1.filter(lambda x: x['val'].sum() > 50)\n",
    "    data_trimmed2 = data_trimmed2.filter(lambda x: x['val'].sum() > 150)\n",
    "    data_trimmed1 = data_trimmed1.groupby('userid')\n",
    "    data_trimmed2 = data_trimmed2.groupby('likeid')"
   ]
  },
  {
   "cell_type": "code",
   "execution_count": 5,
   "metadata": {},
   "outputs": [],
   "source": [
    "data_trimmed1 = pd.DataFrame(data_trimmed1, columns=['userid','_x'])\n",
    "data_trimmed2 = pd.DataFrame(data_trimmed2, columns=['likeid','_y'])\n",
    "data_trimmed1 = data_trimmed1.drop_duplicates('userid')\n",
    "data_trimmed2 = data_trimmed2.drop_duplicates('likeid')"
   ]
  },
  {
   "cell_type": "code",
   "execution_count": 6,
   "metadata": {
    "scrolled": false
   },
   "outputs": [],
   "source": [
    "data_trimmed = data.merge(data_trimmed1, how='inner', on='userid')\n",
    "data_trimmed = data_trimmed.merge(data_trimmed2, how='inner', on='likeid')\n",
    "data_users_trimmed = data_users.merge(data_trimmed['userid'], how='inner', on='userid')\n",
    "data_likes_trimmed = data_likes.merge(data_trimmed['likeid'], how='inner', on='likeid')"
   ]
  },
  {
   "cell_type": "code",
   "execution_count": 7,
   "metadata": {},
   "outputs": [
    {
     "name": "stdout",
     "output_type": "stream",
     "text": [
      "(4600071, 12) (4600071, 9) (4600071, 2)\n"
     ]
    }
   ],
   "source": [
    "data_trimmed = data_trimmed.drop(columns=[ '_x','_y'])\n",
    "print(data_trimmed.shape, data_users_trimmed.shape, data_likes_trimmed.shape)"
   ]
  },
  {
   "cell_type": "code",
   "execution_count": 8,
   "metadata": {},
   "outputs": [],
   "source": [
    "M = data_trimmed.pivot(index='userid', columns='likeid', values='val')"
   ]
  },
  {
   "cell_type": "code",
   "execution_count": 9,
   "metadata": {},
   "outputs": [],
   "source": [
    "# 存储修剪后的矩阵\n",
    "M.to_csv('trimmed_M.csv', index=True)\n",
    "data_users_trimmed.to_csv('data_users_trimmed.csv', index=False)\n",
    "data_likes_trimmed.to_csv('data_likes_trimmed.csv', index=False)"
   ]
  },
  {
   "cell_type": "markdown",
   "metadata": {},
   "source": [
    "### 2. 降维"
   ]
  },
  {
   "cell_type": "code",
   "execution_count": 13,
   "metadata": {},
   "outputs": [],
   "source": [
    "# 读取数据\n",
    "data_users = pd.read_csv('data_users_trimmed.csv').drop_duplicates('userid').reset_index(drop=True)\n",
    "M_df = pd.read_csv('trimmed_M.csv') \n",
    "M_df = M_df.set_index('userid')\n",
    "M = M_df.to_numpy(copy=True, na_value=0)"
   ]
  },
  {
   "cell_type": "code",
   "execution_count": null,
   "metadata": {},
   "outputs": [],
   "source": [
    "# SVD"
   ]
  },
  {
   "cell_type": "code",
   "execution_count": 15,
   "metadata": {
    "scrolled": false
   },
   "outputs": [
    {
     "data": {
      "text/plain": [
       "TruncatedSVD(n_components=5, random_state=42)"
      ]
     },
     "execution_count": 15,
     "metadata": {},
     "output_type": "execute_result"
    }
   ],
   "source": [
    "M_sparse = csr_matrix(M)\n",
    "M_svd = TruncatedSVD(n_components=5, random_state=42)\n",
    "M_svd.fit(M_sparse)"
   ]
  },
  {
   "cell_type": "code",
   "execution_count": 16,
   "metadata": {},
   "outputs": [],
   "source": [
    "transformer = FactorAnalysis(rotation='varimax')\n",
    "V_rot = transformer.fit_transform(M_svd.components_.T)\n",
    "U_rot = np.matmul(M, V_rot)"
   ]
  },
  {
   "cell_type": "code",
   "execution_count": 33,
   "metadata": {},
   "outputs": [],
   "source": [
    "cor_svd = np.array([[np.corrcoef(U_rot[:,i], data_users.iloc[:,j])[0,1] for i in range(0,5)] for j in range(1,9)])"
   ]
  },
  {
   "cell_type": "code",
   "execution_count": null,
   "metadata": {},
   "outputs": [],
   "source": [
    "# LDA"
   ]
  },
  {
   "cell_type": "code",
   "execution_count": 56,
   "metadata": {},
   "outputs": [
    {
     "data": {
      "text/plain": [
       "12914.29374775859"
      ]
     },
     "execution_count": 56,
     "metadata": {},
     "output_type": "execute_result"
    }
   ],
   "source": [
    "M_lda = LatentDirichletAllocation(n_components=5, doc_topic_prior=10, topic_word_prior=0.1, learning_method='online', random_state=0)\n",
    "M_lda.fit(M.T)\n",
    "gamma = M_lda.components_\n",
    "beta = M_lda.exp_dirichlet_component_\n",
    "M_lda.bound_"
   ]
  },
  {
   "cell_type": "code",
   "execution_count": 69,
   "metadata": {},
   "outputs": [],
   "source": [
    "cor_lda = np.array([[np.corrcoef(gamma[i,:], data_users.iloc[:,j])[0,1] for i in range(0,5)] for j in range(1,9)])"
   ]
  },
  {
   "cell_type": "code",
   "execution_count": null,
   "metadata": {},
   "outputs": [],
   "source": [
    "# visualization"
   ]
  },
  {
   "cell_type": "code",
   "execution_count": 72,
   "metadata": {},
   "outputs": [
    {
     "data": {
      "text/plain": [
       "array([[ 4.26104170e-03,  6.40068295e-03, -5.39531540e-03,\n",
       "         4.81565383e-03,             nan],\n",
       "       [ 6.55819008e-03,  6.98605812e-03, -5.58231261e-03,\n",
       "        -1.08764087e-02,             nan],\n",
       "       [            nan,             nan,             nan,\n",
       "                    nan,             nan],\n",
       "       [ 3.71091689e-03,  7.78073891e-03, -1.10327357e-02,\n",
       "        -6.85328199e-03,             nan],\n",
       "       [ 1.63337852e-03,  9.43666448e-04,  6.53681642e-03,\n",
       "         1.36118880e-02,             nan],\n",
       "       [-8.47589119e-05,  4.90286493e-04,  1.18830312e-03,\n",
       "         2.47354692e-03,             nan],\n",
       "       [ 8.49037655e-03,  1.05160157e-02, -1.41000767e-03,\n",
       "         1.26289329e-02,             nan],\n",
       "       [ 2.38670424e-03, -5.90630738e-05, -7.12297883e-03,\n",
       "        -6.87198689e-03,             nan]])"
      ]
     },
     "execution_count": 72,
     "metadata": {},
     "output_type": "execute_result"
    }
   ],
   "source": [
    "cor_svd"
   ]
  },
  {
   "cell_type": "code",
   "execution_count": 60,
   "metadata": {
    "scrolled": true
   },
   "outputs": [
    {
     "data": {
      "image/png": "[encoded data removed]",
      "text/plain": [
       "<Figure size 432x288 with 2 Axes>"
      ]
     },
     "metadata": {
      "needs_background": "light"
     },
     "output_type": "display_data"
    }
   ],
   "source": [
    "x = np.array(range(0,8))\n",
    "y = np.array(range(0,5))\n",
    "X,Y = np.meshgrid(x,y)\n",
    "plt.imshow(cor_svd[X,Y])\n",
    "plt.colorbar()\n",
    "plt.show()"
   ]
  },
  {
   "cell_type": "code",
   "execution_count": 70,
   "metadata": {},
   "outputs": [
    {
     "data": {
      "text/plain": [
       "array([[ 0.00336988, -0.00570085,  0.0020255 , -0.00326644,  0.00435744],\n",
       "       [-0.00235644, -0.00483972, -0.00027497,  0.00894646, -0.00045085],\n",
       "       [        nan,         nan,         nan,         nan,         nan],\n",
       "       [ 0.00366819, -0.00503715,  0.00605541,  0.00918986, -0.00257398],\n",
       "       [ 0.00924779,  0.00346715,  0.00725862, -0.00645731,  0.00424865],\n",
       "       [ 0.00233665, -0.00304356,  0.0025393 , -0.00068352,  0.00135249],\n",
       "       [ 0.01441665, -0.00494808,  0.00409512, -0.00346065,  0.01571041],\n",
       "       [-0.0031606 ,  0.00131042, -0.00747875,  0.0060248 , -0.00085508]])"
      ]
     },
     "execution_count": 70,
     "metadata": {},
     "output_type": "execute_result"
    }
   ],
   "source": [
    "cor_lda"
   ]
  },
  {
   "cell_type": "code",
   "execution_count": 71,
   "metadata": {},
   "outputs": [
    {
     "data": {
      "image/png": "[encoded data removed]",
      "text/plain": [
       "<Figure size 432x288 with 2 Axes>"
      ]
     },
     "metadata": {
      "needs_background": "light"
     },
     "output_type": "display_data"
    }
   ],
   "source": [
    "x = np.array(range(0,7))\n",
    "y = np.array(range(0,5))\n",
    "X,Y = np.meshgrid(x,y)\n",
    "plt.imshow(cor_lda[X,Y])\n",
    "plt.colorbar()\n",
    "plt.show()"
   ]
  },
  {
   "cell_type": "markdown",
   "metadata": {},
   "source": [
    "### 3. 预测"
   ]
  },
  {
   "cell_type": "code",
   "execution_count": 101,
   "metadata": {},
   "outputs": [
    {
     "name": "stdout",
     "output_type": "stream",
     "text": [
      "[0.2455193293034715, 54.9515383691763, 0.07264915003205653, 0.9023364285889031, 0.9814758593091921, 1.0094174816047015, 0.995311433875468, 1.0107472022663773]\n",
      "[0.24553146321585598, 54.95630356619178, 0.07264533257110425, 0.9023701532905436, 0.9815751587828689, 1.0094356423131605, 0.9953045478747311, 1.010757143166775]\n"
     ]
    }
   ],
   "source": [
    "data_users = data_users.fillna(0)\n",
    "model = LinearRegression()\n",
    "loss_svd = []\n",
    "loss_lda = []\n",
    "for j in range(1,9):\n",
    "    l_svd = -cross_val_score(estimator=model, X=U_rot, y=data_users.iloc[:,j], cv=10, scoring='neg_mean_squared_error').mean()\n",
    "    l_lda = -cross_val_score(estimator=model, X=gamma.T, y=data_users.iloc[:,j], cv=10, scoring='neg_mean_squared_error').mean()\n",
    "    loss_svd.append(l_svd)\n",
    "    loss_lda.append(l_lda)\n",
    "print(loss_svd)\n",
    "print(loss_lda)"
   ]
  },
  {
   "cell_type": "code",
   "execution_count": 102,
   "metadata": {},
   "outputs": [
    {
     "data": {
      "image/png": "[encoded data removed]",
      "text/plain": [
       "<Figure size 432x288 with 1 Axes>"
      ]
     },
     "metadata": {
      "needs_background": "light"
     },
     "output_type": "display_data"
    }
   ],
   "source": [
    "plt.scatter(loss_svd,loss_lda)\n",
    "plt.show()"
   ]
  },
  {
   "cell_type": "markdown",
   "metadata": {},
   "source": [
    "**对genre的理解：**"
   ]
  },
  {
   "cell_type": "markdown",
   "metadata": {},
   "source": [
    "数据是由几个原因导致的或者说可以分解为几个维度，每个原因看做一个genre，通过将数据投影到genre上，得到这组数据关于每个genre的分量。\n",
    "再通过建立genre与预测值的映射关系，建立起数据与预测值之间的关系。\n",
    "对于原始数据进行类似“透过现象看本质”的分析，把数据归结到一组genre上，去除噪声信息，防止过拟合。"
   ]
  }
 ],
 "metadata": {
  "kernelspec": {
   "display_name": "Python 3",
   "language": "python",
   "name": "python3"
  },
  "language_info": {
   "codemirror_mode": {
    "name": "ipython",
    "version": 3
   },
   "file_extension": ".py",
   "mimetype": "text/x-python",
   "name": "python",
   "nbconvert_exporter": "python",
   "pygments_lexer": "ipython3",
   "version": "3.7.6"
  }
 },
 "nbformat": 4,
 "nbformat_minor": 4
}
